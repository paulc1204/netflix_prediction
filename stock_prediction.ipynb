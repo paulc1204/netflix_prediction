{
 "cells": [
  {
   "cell_type": "code",
   "execution_count": 1,
   "metadata": {},
   "outputs": [],
   "source": [
    "import pandas as pd \n",
    "import numpy as np \n",
    "import yfinance as yf\n",
    "import datetime as dt\n",
    "import matplotlib.pyplot as plt\n",
    "%matplotlib inline\n",
    "\n",
    "from sklearn import metrics\n",
    "from sklearn.model_selection import train_test_split\n",
    "from sklearn.ensemble import RandomForestRegressor\n",
    "from sklearn.preprocessing import StandardScaler\n",
    "from sklearn.model_selection import RandomizedSearchCV"
   ]
  },
  {
   "cell_type": "code",
   "execution_count": 51,
   "metadata": {},
   "outputs": [],
   "source": [
    "nflx = yf.Ticker(\"NFLX\")"
   ]
  },
  {
   "cell_type": "code",
   "execution_count": 74,
   "metadata": {},
   "outputs": [],
   "source": [
    "df_nflx = nflx.history(interval=\"1wk\", start='2012-10-29', end='2022-11-22')\n",
    "df_nflx.set_index(\"Date\", inplace=True)"
   ]
  },
  {
   "cell_type": "code",
   "execution_count": 75,
   "metadata": {},
   "outputs": [],
   "source": [
    "df_nflx['Adj_Close_12w'] = df_nflx['Adj Close'].shift(-12)"
   ]
  },
  {
   "cell_type": "code",
   "execution_count": 40,
   "metadata": {},
   "outputs": [
    {
     "data": {
      "text/plain": [
       "<matplotlib.axes._subplots.AxesSubplot at 0x1ae81446a08>"
      ]
     },
     "execution_count": 40,
     "metadata": {},
     "output_type": "execute_result"
    },
    {
     "data": {
      "image/png": "[encoded data removed]",
      "text/plain": [
       "<Figure size 432x288 with 1 Axes>"
      ]
     },
     "metadata": {
      "needs_background": "light"
     },
     "output_type": "display_data"
    }
   ],
   "source": [
    "df_nflx[\"Adj Close\"].plot()"
   ]
  },
  {
   "cell_type": "code",
   "execution_count": 235,
   "metadata": {},
   "outputs": [],
   "source": [
    "# 80/20 split of train, test sets\n",
    "X = df_nflx.loc[:, df_nflx.columns!=\"Adj_Close_12w\"]\n",
    "y = df_nflx[[\"Adj_Close_12w\"]]\n",
    "X_train, y_train = X.iloc[:(X.shape[0]//5 * 4)], y.iloc[:(y.shape[0]//5 * 4)]\n",
    "X_test, y_test = X.iloc[(X.shape[0]//5 * 4):], y.iloc[(y.shape[0]//5 * 4):]"
   ]
  },
  {
   "cell_type": "code",
   "execution_count": 269,
   "metadata": {},
   "outputs": [],
   "source": [
    "X['mom_6m'] = X[\"Adj Close\"].shift(4)/X[\"Adj Close\"].shift(28)\n",
    "X['mom_12m'] = X[\"Adj Close\"].shift(4)/X[\"Adj Close\"].shift(52)"
   ]
  },
  {
   "cell_type": "code",
   "execution_count": 317,
   "metadata": {},
   "outputs": [],
   "source": [
    "df_old = nflx.history(interval='1wk', start='2011-10-31', end='2012-10-22')"
   ]
  },
  {
   "cell_type": "code",
   "execution_count": 340,
   "metadata": {},
   "outputs": [],
   "source": [
    "X_mom = df_old.append(X)\n",
    "X_mom['mom_6m'] = X_mom[\"Adj Close\"].shift(4)/X_mom[\"Adj Close\"].shift(28)\n",
    "X_mom['mom_12m'] = X_mom[\"Adj Close\"].shift(4)/X_mom[\"Adj Close\"].shift(52)"
   ]
  },
  {
   "cell_type": "code",
   "execution_count": 343,
   "metadata": {
    "scrolled": false
   },
   "outputs": [
    {
     "data": {
      "text/html": [
       "<div>\n",
       "<style scoped>\n",
       "    .dataframe tbody tr th:only-of-type {\n",
       "        vertical-align: middle;\n",
       "    }\n",
       "\n",
       "    .dataframe tbody tr th {\n",
       "        vertical-align: top;\n",
       "    }\n",
       "\n",
       "    .dataframe thead th {\n",
       "        text-align: right;\n",
       "    }\n",
       "</style>\n",
       "<table border=\"1\" class=\"dataframe\">\n",
       "  <thead>\n",
       "    <tr style=\"text-align: right;\">\n",
       "      <th></th>\n",
       "      <th>Open</th>\n",
       "      <th>High</th>\n",
       "      <th>Low</th>\n",
       "      <th>Close</th>\n",
       "      <th>Volume</th>\n",
       "      <th>Adj Close</th>\n",
       "      <th>mom_6m</th>\n",
       "      <th>mom_12m</th>\n",
       "    </tr>\n",
       "    <tr>\n",
       "      <th>Date</th>\n",
       "      <th></th>\n",
       "      <th></th>\n",
       "      <th></th>\n",
       "      <th></th>\n",
       "      <th></th>\n",
       "      <th></th>\n",
       "      <th></th>\n",
       "      <th></th>\n",
       "    </tr>\n",
       "  </thead>\n",
       "  <tbody>\n",
       "    <tr>\n",
       "      <th>2012-10-29</th>\n",
       "      <td>9.487143</td>\n",
       "      <td>12.135714</td>\n",
       "      <td>9.364286</td>\n",
       "      <td>10.985714</td>\n",
       "      <td>199628800</td>\n",
       "      <td>10.985714</td>\n",
       "      <td>0.627274</td>\n",
       "      <td>0.739391</td>\n",
       "    </tr>\n",
       "    <tr>\n",
       "      <th>2012-11-05</th>\n",
       "      <td>10.652857</td>\n",
       "      <td>11.475714</td>\n",
       "      <td>10.642857</td>\n",
       "      <td>11.128571</td>\n",
       "      <td>155873200</td>\n",
       "      <td>11.128571</td>\n",
       "      <td>0.768211</td>\n",
       "      <td>0.733105</td>\n",
       "    </tr>\n",
       "    <tr>\n",
       "      <th>2012-11-12</th>\n",
       "      <td>11.285714</td>\n",
       "      <td>11.871429</td>\n",
       "      <td>11.048571</td>\n",
       "      <td>11.557143</td>\n",
       "      <td>121976400</td>\n",
       "      <td>11.557143</td>\n",
       "      <td>0.888433</td>\n",
       "      <td>0.832437</td>\n",
       "    </tr>\n",
       "    <tr>\n",
       "      <th>2012-11-19</th>\n",
       "      <td>11.715714</td>\n",
       "      <td>12.080000</td>\n",
       "      <td>11.450000</td>\n",
       "      <td>11.850000</td>\n",
       "      <td>57894200</td>\n",
       "      <td>11.850000</td>\n",
       "      <td>0.899199</td>\n",
       "      <td>1.089571</td>\n",
       "    </tr>\n",
       "    <tr>\n",
       "      <th>2012-11-26</th>\n",
       "      <td>11.800000</td>\n",
       "      <td>11.938571</td>\n",
       "      <td>11.332857</td>\n",
       "      <td>11.672857</td>\n",
       "      <td>69963600</td>\n",
       "      <td>11.672857</td>\n",
       "      <td>1.099200</td>\n",
       "      <td>1.158656</td>\n",
       "    </tr>\n",
       "    <tr>\n",
       "      <th>...</th>\n",
       "      <td>...</td>\n",
       "      <td>...</td>\n",
       "      <td>...</td>\n",
       "      <td>...</td>\n",
       "      <td>...</td>\n",
       "      <td>...</td>\n",
       "      <td>...</td>\n",
       "      <td>...</td>\n",
       "    </tr>\n",
       "    <tr>\n",
       "      <th>2022-10-24</th>\n",
       "      <td>290.230011</td>\n",
       "      <td>305.630005</td>\n",
       "      <td>280.359985</td>\n",
       "      <td>295.720001</td>\n",
       "      <td>68714300</td>\n",
       "      <td>295.720001</td>\n",
       "      <td>0.690177</td>\n",
       "      <td>0.341064</td>\n",
       "    </tr>\n",
       "    <tr>\n",
       "      <th>2022-10-31</th>\n",
       "      <td>295.130005</td>\n",
       "      <td>299.700012</td>\n",
       "      <td>255.320007</td>\n",
       "      <td>260.790009</td>\n",
       "      <td>42965700</td>\n",
       "      <td>260.790009</td>\n",
       "      <td>1.042827</td>\n",
       "      <td>0.348061</td>\n",
       "    </tr>\n",
       "    <tr>\n",
       "      <th>2022-11-07</th>\n",
       "      <td>261.059998</td>\n",
       "      <td>290.660004</td>\n",
       "      <td>252.089996</td>\n",
       "      <td>290.130005</td>\n",
       "      <td>42111400</td>\n",
       "      <td>290.130005</td>\n",
       "      <td>1.208237</td>\n",
       "      <td>0.336942</td>\n",
       "    </tr>\n",
       "    <tr>\n",
       "      <th>2022-11-14</th>\n",
       "      <td>290.000000</td>\n",
       "      <td>312.709991</td>\n",
       "      <td>287.000000</td>\n",
       "      <td>287.980011</td>\n",
       "      <td>58874000</td>\n",
       "      <td>287.980011</td>\n",
       "      <td>1.600099</td>\n",
       "      <td>0.426591</td>\n",
       "    </tr>\n",
       "    <tr>\n",
       "      <th>2022-11-21</th>\n",
       "      <td>291.000000</td>\n",
       "      <td>291.869995</td>\n",
       "      <td>282.660004</td>\n",
       "      <td>285.049988</td>\n",
       "      <td>7256500</td>\n",
       "      <td>285.049988</td>\n",
       "      <td>1.575997</td>\n",
       "      <td>0.444264</td>\n",
       "    </tr>\n",
       "  </tbody>\n",
       "</table>\n",
       "<p>526 rows × 8 columns</p>\n",
       "</div>"
      ],
      "text/plain": [
       "                  Open        High         Low       Close     Volume  \\\n",
       "Date                                                                    \n",
       "2012-10-29    9.487143   12.135714    9.364286   10.985714  199628800   \n",
       "2012-11-05   10.652857   11.475714   10.642857   11.128571  155873200   \n",
       "2012-11-12   11.285714   11.871429   11.048571   11.557143  121976400   \n",
       "2012-11-19   11.715714   12.080000   11.450000   11.850000   57894200   \n",
       "2012-11-26   11.800000   11.938571   11.332857   11.672857   69963600   \n",
       "...                ...         ...         ...         ...        ...   \n",
       "2022-10-24  290.230011  305.630005  280.359985  295.720001   68714300   \n",
       "2022-10-31  295.130005  299.700012  255.320007  260.790009   42965700   \n",
       "2022-11-07  261.059998  290.660004  252.089996  290.130005   42111400   \n",
       "2022-11-14  290.000000  312.709991  287.000000  287.980011   58874000   \n",
       "2022-11-21  291.000000  291.869995  282.660004  285.049988    7256500   \n",
       "\n",
       "             Adj Close    mom_6m   mom_12m  \n",
       "Date                                        \n",
       "2012-10-29   10.985714  0.627274  0.739391  \n",
       "2012-11-05   11.128571  0.768211  0.733105  \n",
       "2012-11-12   11.557143  0.888433  0.832437  \n",
       "2012-11-19   11.850000  0.899199  1.089571  \n",
       "2012-11-26   11.672857  1.099200  1.158656  \n",
       "...                ...       ...       ...  \n",
       "2022-10-24  295.720001  0.690177  0.341064  \n",
       "2022-10-31  260.790009  1.042827  0.348061  \n",
       "2022-11-07  290.130005  1.208237  0.336942  \n",
       "2022-11-14  287.980011  1.600099  0.426591  \n",
       "2022-11-21  285.049988  1.575997  0.444264  \n",
       "\n",
       "[526 rows x 8 columns]"
      ]
     },
     "execution_count": 343,
     "metadata": {},
     "output_type": "execute_result"
    }
   ],
   "source": [
    "X_mom = X_mom.dropna()\n",
    "X_mom"
   ]
  },
  {
   "cell_type": "code",
   "execution_count": 355,
   "metadata": {},
   "outputs": [],
   "source": [
    "X_mom[\"Adj_Close_12w\"] = X_mom[\"Adj Close\"].shift(12)"
   ]
  },
  {
   "cell_type": "code",
   "execution_count": 383,
   "metadata": {},
   "outputs": [],
   "source": [
    "X_mom[\"Adj_Close_12w\"] = X_mom[\"Adj Close\"].shift(-12)\n",
    "y_mom = X_mom[[\"Adj_Close_12w\"]]\n",
    "X_mom = X_mom.loc[:, X_mom.columns!=\"Adj_Close_12w\"]\n",
    "X_train, y_train = X_mom.iloc[:(X_mom.shape[0]//5 * 3)], y_mom.iloc[:(y_mom.shape[0]//5 * 3)]\n",
    "X_val, y_val = X.iloc[(X_mom.shape[0]//5 * 3):(X_mom.shape[0]//5 * 4)], y_mom.iloc[(y_mom.shape[0]//5 * 3):(y_mom.shape[0]//5 * 4)]\n",
    "X_test, y_test = X.iloc[(X_mom.shape[0]//5 * 4):], y_mom.iloc[(y_mom.shape[0]//5 * 4):]"
   ]
  },
  {
   "cell_type": "code",
   "execution_count": 384,
   "metadata": {},
   "outputs": [],
   "source": [
    "X_test, y_test = X_test.iloc[:-12], y_test.iloc[:-12]"
   ]
  },
  {
   "cell_type": "code",
   "execution_count": 9,
   "metadata": {
    "scrolled": true
   },
   "outputs": [
    {
     "name": "stdout",
     "output_type": "stream",
     "text": [
      "Fitting 3 folds for each of 200 candidates, totalling 600 fits\n"
     ]
    },
    {
     "name": "stderr",
     "output_type": "stream",
     "text": [
      "[Parallel(n_jobs=-1)]: Using backend LokyBackend with 8 concurrent workers.\n",
      "[Parallel(n_jobs=-1)]: Done  25 tasks      | elapsed:    6.2s\n",
      "[Parallel(n_jobs=-1)]: Done 146 tasks      | elapsed:   28.1s\n",
      "[Parallel(n_jobs=-1)]: Done 349 tasks      | elapsed:   57.1s\n",
      "[Parallel(n_jobs=-1)]: Done 600 out of 600 | elapsed:  1.4min finished\n",
      "C:\\Users\\Paul\\anaconda3\\lib\\site-packages\\sklearn\\model_selection\\_search.py:739: DataConversionWarning: A column-vector y was passed when a 1d array was expected. Please change the shape of y to (n_samples,), for example using ravel().\n",
      "  self.best_estimator_.fit(X, y, **fit_params)\n"
     ]
    },
    {
     "name": "stdout",
     "output_type": "stream",
     "text": [
      "{'n_estimators': 100, 'min_samples_split': 2, 'min_samples_leaf': 1, 'max_depth': 4, 'bootstrap': False}\n"
     ]
    }
   ],
   "source": [
    "model = RandomForestRegressor()\n",
    "grid_rf = {\n",
    "'n_estimators': [20, 50, 100, 500, 1000],  \n",
    "'max_depth': np.arange(1, 15, 1),  \n",
    "'min_samples_split': [2, 10, 9], \n",
    "'min_samples_leaf': np.arange(1, 15, 2, dtype=int),  \n",
    "'bootstrap': [True, False]\n",
    "}\n",
    "rscv = RandomizedSearchCV(estimator=model, param_distributions=grid_rf, cv=3, n_jobs=-1, verbose=2, n_iter=200)\n",
    "rscv_fit = rscv.fit(X_train, y_train)\n",
    "best_parameters = rscv_fit.best_params_\n",
    "print(best_parameters)"
   ]
  },
  {
   "cell_type": "code",
   "execution_count": 10,
   "metadata": {},
   "outputs": [
    {
     "data": {
      "text/plain": [
       "RandomForestRegressor(bootstrap=False, ccp_alpha=0.0, criterion='mse',\n",
       "                      max_depth=4, max_features='auto', max_leaf_nodes=None,\n",
       "                      max_samples=None, min_impurity_decrease=0.0,\n",
       "                      min_impurity_split=None, min_samples_leaf=1,\n",
       "                      min_samples_split=2, min_weight_fraction_leaf=0.0,\n",
       "                      n_estimators=100, n_jobs=None, oob_score=False,\n",
       "                      random_state=42, verbose=0, warm_start=False)"
      ]
     },
     "execution_count": 10,
     "metadata": {},
     "output_type": "execute_result"
    }
   ],
   "source": [
    "model = RandomForestRegressor(n_estimators=100, min_samples_split=2, min_samples_leaf=1, max_depth=4, bootstrap=False, random_state=42)\n",
    "model.fit(X_train, y_train.squeeze())"
   ]
  },
  {
   "cell_type": "code",
   "execution_count": 36,
   "metadata": {},
   "outputs": [
    {
     "data": {
      "image/png": "[encoded data removed]",
      "text/plain": [
       "<Figure size 576x360 with 1 Axes>"
      ]
     },
     "metadata": {
      "needs_background": "light"
     },
     "output_type": "display_data"
    }
   ],
   "source": [
    "train_preds = pd.Series(data=model.predict(X_train), index=X_train.index)\n",
    "plt.figure(figsize=(8,5))\n",
    "plt.plot(train_preds, 'b', label=\"predictions\")\n",
    "plt.plot(y_train, 'r', label=\"real price\")\n",
    "plt.xticks(train_preds.index[::85])\n",
    "plt.xlabel(\"Date\")\n",
    "plt.ylabel(\"Adjusted Close Price (USD)\")\n",
    "plt.title(\"Training Result\")\n",
    "plt.legend()\n",
    "\n",
    "plt.savefig(\"train_result.png\")\n",
    "plt.show()"
   ]
  },
  {
   "cell_type": "code",
   "execution_count": 49,
   "metadata": {},
   "outputs": [
    {
     "name": "stdout",
     "output_type": "stream",
     "text": [
      "Training Error: 16.248723519023738\n"
     ]
    }
   ],
   "source": [
    "print(\"Training Error:\", metrics.mean_absolute_error(y_train, train_preds))"
   ]
  },
  {
   "cell_type": "code",
   "execution_count": 37,
   "metadata": {
    "scrolled": true
   },
   "outputs": [
    {
     "data": {
      "image/png": "[encoded data removed]",
      "text/plain": [
       "<Figure size 576x360 with 1 Axes>"
      ]
     },
     "metadata": {
      "needs_background": "light"
     },
     "output_type": "display_data"
    }
   ],
   "source": [
    "test_preds = pd.Series(data=model.predict(X_test), index=X_test.index)\n",
    "plt.figure(figsize=(8,5))\n",
    "plt.plot(test_preds, 'b', label='predictions')\n",
    "plt.plot(y_test, 'r', label='real price')\n",
    "plt.xticks(X_test.index[::18])\n",
    "plt.xlabel(\"Date\")\n",
    "plt.ylabel(\"Adjusted Close Price (USD)\")\n",
    "plt.title(\"Test Result\")\n",
    "plt.legend()\n",
    "plt.savefig(\"test_result.png\")\n",
    "plt.show()"
   ]
  },
  {
   "cell_type": "code",
   "execution_count": 50,
   "metadata": {},
   "outputs": [
    {
     "name": "stdout",
     "output_type": "stream",
     "text": [
      "Test Error: 73.25594360161911\n"
     ]
    }
   ],
   "source": [
    "print(\"Test Error:\", metrics.mean_absolute_error(y_test.iloc[:-12], test_preds.loc[:\"2022-09\"]))"
   ]
  },
  {
   "cell_type": "code",
   "execution_count": 57,
   "metadata": {},
   "outputs": [
    {
     "data": {
      "text/html": [
       "<div>\n",
       "<style scoped>\n",
       "    .dataframe tbody tr th:only-of-type {\n",
       "        vertical-align: middle;\n",
       "    }\n",
       "\n",
       "    .dataframe tbody tr th {\n",
       "        vertical-align: top;\n",
       "    }\n",
       "\n",
       "    .dataframe thead th {\n",
       "        text-align: right;\n",
       "    }\n",
       "</style>\n",
       "<table border=\"1\" class=\"dataframe\">\n",
       "  <thead>\n",
       "    <tr style=\"text-align: right;\">\n",
       "      <th></th>\n",
       "      <th>price in 12wk</th>\n",
       "    </tr>\n",
       "    <tr>\n",
       "      <th>Date</th>\n",
       "      <th></th>\n",
       "    </tr>\n",
       "  </thead>\n",
       "  <tbody>\n",
       "    <tr>\n",
       "      <th>2022-11-14</th>\n",
       "      <td>312.341251</td>\n",
       "    </tr>\n",
       "    <tr>\n",
       "      <th>2022-11-21</th>\n",
       "      <td>312.341251</td>\n",
       "    </tr>\n",
       "  </tbody>\n",
       "</table>\n",
       "</div>"
      ],
      "text/plain": [
       "            price in 12wk\n",
       "Date                     \n",
       "2022-11-14     312.341251\n",
       "2022-11-21     312.341251"
      ]
     },
     "execution_count": 57,
     "metadata": {},
     "output_type": "execute_result"
    }
   ],
   "source": [
    "pd.DataFrame(data=model.predict(X_mom.iloc[-2:]), index=X_mom.iloc[-2:].index, columns=[\"price in 12wk\"])"
   ]
  }
 ],
 "metadata": {
  "kernelspec": {
   "display_name": "Python 3",
   "language": "python",
   "name": "python3"
  },
  "language_info": {
   "codemirror_mode": {
    "name": "ipython",
    "version": 3
   },
   "file_extension": ".py",
   "mimetype": "text/x-python",
   "name": "python",
   "nbconvert_exporter": "python",
   "pygments_lexer": "ipython3",
   "version": "3.7.6"
  }
 },
 "nbformat": 4,
 "nbformat_minor": 4
}
